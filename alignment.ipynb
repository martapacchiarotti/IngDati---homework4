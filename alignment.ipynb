{
  "nbformat": 4,
  "nbformat_minor": 0,
  "metadata": {
    "colab": {
      "provenance": []
    },
    "kernelspec": {
      "name": "python3",
      "display_name": "Python 3"
    },
    "language_info": {
      "name": "python"
    }
  },
  "cells": [
    {
      "cell_type": "code",
      "execution_count": null,
      "metadata": {
        "id": "5K9EREhKQ6Ys"
      },
      "outputs": [],
      "source": [
        "import json\n",
        "import os\n",
        "import json\n",
        "import pandas as pd\n"
      ]
    },
    {
      "cell_type": "code",
      "source": [
        "# COLLEGAMENTO CON GOOGLE DRIVE\n",
        "from google.colab import drive\n",
        "\n",
        "drive.mount('/content/drive')"
      ],
      "metadata": {
        "id": "6K6puzZwgMDj",
        "colab": {
          "base_uri": "https://localhost:8080/"
        },
        "outputId": "8988c98c-624a-40ec-ef61-8561de284d97"
      },
      "execution_count": null,
      "outputs": [
        {
          "output_type": "stream",
          "name": "stdout",
          "text": [
            "Mounted at /content/drive\n"
          ]
        }
      ]
    },
    {
      "cell_type": "code",
      "source": [
        "# data è la lista dei dizionari\n",
        "# claim data è un dizionario di dizionari\n",
        "#claim id: 0\n",
        "#claim structure:\n",
        "#{'specifications': {'0': {'name': 'Dataset', 'value': 'Omniglot'}, '1': {'name': 'Model', 'value': 'MAML w/ LinNet'}},\n",
        "#'Measure': 'adaptation learning rate', 'Outcome': '0.08'}\n",
        "\n",
        "\n",
        "\n",
        "def find_names_values_in_json_files(directory_path,names_to_allign,values_to_allign):\n",
        "    # Elenca tutti i file JSON nella cartella\n",
        "    files = [os.path.join(directory_path, f) for f in os.listdir(directory_path) if f.endswith(\".json\")]\n",
        "\n",
        "    # Dizionario per raccogliere i risultati\n",
        "    alligned_name_positions = {}\n",
        "    alligned_value_positions = {}\n",
        "    measure_id = None\n",
        "\n",
        "    for file_name in files:\n",
        "        # Estrai paperID e tableID dal nome del file\n",
        "        base_name = os.path.basename(file_name).split(\".json\")[0]\n",
        "        paper_id, table_id, non_relevant= base_name.split(\"_\")\n",
        "\n",
        "        # Leggi il contenuto del file JSON\n",
        "        with open(file_name, 'r') as f:\n",
        "            data = json.load(f)\n",
        "\n",
        "        # Itera attraverso gli elementi della lista (data è una lista di dizionari)\n",
        "        for claim_data in data:\n",
        "          for claim_id, claim in claim_data.items():\n",
        "            # Ottieni il dizionario con le specifiche\n",
        "            for spec, spec_data in claim.items():\n",
        "                if spec == 'specifications':\n",
        "                  for spec_id, name_value in spec_data.items():\n",
        "                    name = name_value['name']\n",
        "                    value = name_value['value']\n",
        "                     # se il nome della specifica deve essere allineato\n",
        "                    if name in names_to_allign.keys():\n",
        "                        name_value['name'] = names_to_allign.get(name)\n",
        "                        position = f\"{paper_id}_{table_id}_{claim_id}_{spec_id}\"\n",
        "                        if name not in alligned_name_positions:\n",
        "                          alligned_name_positions[name] = [] # aggiungi la chiave value\n",
        "                        alligned_name_positions[name].append(position)\n",
        "\n",
        "                    if value in values_to_allign.keys():\n",
        "                        name_value['value'] = values_to_allign.get(name)\n",
        "                        position = f\"{paper_id}_{table_id}_{claim_id}_{spec_id}\"\n",
        "                        if value not in alligned_value_positions:\n",
        "                          alligned_value_positions[value] = [] # aggiungi la chiave value\n",
        "                        alligned_value_positions[value].append(position) # aggiungi la posizione di value nella lista delle posizioni\n",
        "                    measure_id = int(spec_id) + 1 # l'id della measure sarà pari all'id dell'ultima specifica +1\n",
        "\n",
        "\n",
        "                else:\n",
        "                  if spec == 'Measure':\n",
        "                    name = spec_data # in name ci va il nome della Measure\n",
        "                    if name in names_to_allign.keys():\n",
        "                        spec_data = names_to_allign.get(name)\n",
        "                        position = f\"{paper_id}_{table_id}_{claim_id}_{measure_id}\"\n",
        "                        if name not in alligned_name_positions:\n",
        "                          alligned_name_positions[name] = [] # aggiungi la chiave value\n",
        "                        alligned_name_positions[name].append(position)\n",
        "                  if spec == 'Outcome':\n",
        "                    value = spec_data # outcome. # in value ci va il valore della Measure\n",
        "                    # Crea la posizione nel formato richiesto\n",
        "                    if value in values_to_allign.keys():\n",
        "                        spec_data = values_to_allign.get(value) # allineo il valore\n",
        "                        position = f\"{paper_id}_{table_id}_{claim_id}_{measure_id}\" # l'id della Measure è uguale a quello della specifica + 1\n",
        "                        if value not in alligned_value_positions:\n",
        "                          alligned_value_positions[value] = [] # aggiungi la chiave value\n",
        "                        alligned_value_positions[value].append(position)\n",
        "\n",
        "        # Passo 3: Salvare le modifiche in una copia\n",
        "        with open(f'/content/drive/My Drive/Ingegneria-dei-dati/alligned_claims/alligned_{base_name}.json', \"w\") as copia_file:\n",
        "            json.dump(data, copia_file, indent=4)\n",
        "\n",
        "    return alligned_name_positions,alligned_value_positions  # mappa di nome_allineato : posizione , mappa di valore_allineato : posizione\n",
        "\n",
        "\n",
        "\n",
        "def save_alignment_in_json_file(alligned_name_positions, alligned_value_positions):\n",
        "    print(\"Salvataggio dell'allineamento in corso...\")\n",
        "    # Creazione del JSON finale\n",
        "    output_data = {\n",
        "        \"aligned_names\": alligned_name_positions,\n",
        "        \"aligned_values\": alligned_value_positions\n",
        "    }\n",
        "\n",
        "    # Scrittura su file JSON\n",
        "    output_file = '/content/drive/My Drive/Ingegneria-dei-dati/claims_alignment.json'\n",
        "    with open(output_file, \"w\", encoding=\"utf-8\") as file:\n",
        "        json.dump(output_data, file, indent=4, ensure_ascii=False)\n",
        "\n",
        "    print(\"Scrittura del file json completata\")\n",
        "\n",
        "\n",
        "\n",
        "\n",
        "\n"
      ],
      "metadata": {
        "id": "Js5-vt5DRGg6"
      },
      "execution_count": null,
      "outputs": []
    },
    {
      "cell_type": "code",
      "source": [
        "# MAIN\n",
        "\n",
        "names_to_allign = {\n",
        "    \"Method\": [\"Model\"],\n",
        "    \"Algorithm\": [\"Model\"],\n",
        "    \"Meta-Optimizer\": [\"Optimizer\"],\n",
        "    \"Setting\": [\"Configuration\"],\n",
        "    \"Training Setup\": [\"Configuration\"],\n",
        "    \"Shots\": [\"K-shot\"],\n",
        "    \"Shot\": [\"K-shot\"],\n",
        "    \"accuracy\": [\"Accuracy\"],\n",
        "    \"Accuracy(%)\": [\"Accuracy\"],\n",
        "    \"accuracy(%)\": [\"Accuracy\"],\n",
        "    \"Test Set o Training set\": [\"Dataset\"],\n",
        "\n",
        "\n",
        "}\n",
        "\n",
        "values_to_allign = {\n",
        "    \"MiniImageNet\": [\"mini-ImageNet\"],\n",
        "    \"miniImageNet\": [\"mini-ImageNet\"],\n",
        "    \"MiniImagenet\": [\"mini-ImageNet\"],\n",
        "    \"tieredImagenet\": [\"tieredImageNet\"],\n",
        "    \"5w1s\": [\"5-way 1-shot\"],\n",
        "    \"MAML w/\": [\"MAML\"],\n",
        "    \"MAML (Finn et al., 2017)\": [\"MAML\"],\n",
        "    \"ANIL w/\": [\"ANIL\"],\n",
        "    \"ANIL (Raghu et al., 2019)\": [\"ANIL\"]\n",
        "\n",
        "}\n",
        "\n",
        "claims_directory_path = '/content/drive/My Drive/Ingegneria-dei-dati/extracted_claims'\n",
        "alligned_name_positions,alligned_value_positions = find_names_values_in_json_files(claims_directory_path,names_to_allign,values_to_allign)\n",
        "save_alignment_in_json_file(alligned_name_positions,alligned_value_positions)\n",
        "\n",
        "\n",
        "\n",
        "\n",
        "\n",
        "\n"
      ],
      "metadata": {
        "colab": {
          "base_uri": "https://localhost:8080/"
        },
        "id": "D0d41t9JGCE5",
        "outputId": "d5a8053a-a530-49d2-c94e-4bc932019ae0"
      },
      "execution_count": null,
      "outputs": [
        {
          "output_type": "stream",
          "name": "stdout",
          "text": [
            "Salvataggio dell'allineamento in corso...\n",
            "Scrittura del file json completata\n"
          ]
        }
      ]
    }
  ]
}